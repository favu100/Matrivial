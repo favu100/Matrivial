{
 "cells": [
  {
   "cell_type": "code",
   "execution_count": 1,
   "metadata": {
    "collapsed": true
   },
   "outputs": [],
   "source": [
    "from sympy import *\n",
    "import numpy as np\n",
    "from mpl_toolkits.mplot3d import Axes3D\n",
    "import matplotlib.pyplot as plt\n",
    "from IPython.display import display\n",
    "%matplotlib inline\n",
    "init_printing()"
   ]
  },
  {
   "cell_type": "code",
   "execution_count": 2,
   "metadata": {
    "collapsed": false
   },
   "outputs": [],
   "source": [
    "def nullstellen2d(f):\n",
    "    glg = Eq(f)\n",
    "    Lsg = solve(glg)\n",
    "    return Lsg\n",
    "\n",
    "def nullstellenpunkte2d(f):\n",
    "    Lsg = nullstellen2d(f)\n",
    "    output = []\n",
    "    for lsg in Lsg:\n",
    "        output.append((lsg,0))\n",
    "    return output"
   ]
  },
  {
   "cell_type": "code",
   "execution_count": 3,
   "metadata": {
    "collapsed": false
   },
   "outputs": [],
   "source": [
    "def plot2d(f, a, b):\n",
    "    plt.figure()\n",
    "    fn = lambdify(x, f, 'numpy')\n",
    "    xn = np.linspace(a,b,100)\n",
    "    plt.plot(xn, fn(xn))"
   ]
  },
  {
   "cell_type": "code",
   "execution_count": 4,
   "metadata": {
    "collapsed": false
   },
   "outputs": [],
   "source": [
    "def hochpunkte2d(f):\n",
    "    f1 = f.diff(x)\n",
    "    f2 = f1.diff(x)\n",
    "    glg = Eq(f1)\n",
    "    candidates = solve(glg)\n",
    "    lsg = []\n",
    "    epsilon = 10**-16\n",
    "    for cand in candidates:\n",
    "        if(f2.subs(x,cand) < 0):\n",
    "            lsg.append((cand, f.subs(x,cand)))\n",
    "        elif(f2.subs(x,cand) == 0):\n",
    "            wert = f.subs(x,cand)\n",
    "            if(f.subs(x, cand - epsilon) < wert and f.subs(x, cand + epsilon) < wert):\n",
    "                lsg.append((cand, wert))\n",
    "    return lsg"
   ]
  },
  {
   "cell_type": "code",
   "execution_count": 5,
   "metadata": {
    "collapsed": false
   },
   "outputs": [],
   "source": [
    "def tiefpunkte2d(f):\n",
    "    f1 = f.diff(x)\n",
    "    f2 = f1.diff(x)\n",
    "    glg = Eq(f1)\n",
    "    candidates = solve(glg)\n",
    "    lsg = []\n",
    "    epsilon = 10**-16\n",
    "    for cand in candidates:\n",
    "        if(f2.subs(x,cand) > 0):\n",
    "            lsg.append((cand, f.subs(x,cand)))\n",
    "        elif(f2.subs(x,cand) == 0):\n",
    "            wert = f.subs(x,cand)\n",
    "            if(f.subs(x, cand - epsilon) > wert and f.subs(x, cand + epsilon) > wert):\n",
    "                lsg.append((cand, wert))\n",
    "    return lsg"
   ]
  },
  {
   "cell_type": "code",
   "execution_count": 6,
   "metadata": {
    "collapsed": false
   },
   "outputs": [],
   "source": [
    "def wendepunkte2d(f):\n",
    "    f1 = f.diff(x)\n",
    "    f2 = f1.diff(x)\n",
    "    f3 = f2.diff(x)\n",
    "    glg = Eq(f2)\n",
    "    candidates = solve(glg)\n",
    "    lsg = []\n",
    "    epsilon = 10**-16\n",
    "    for cand in candidates:\n",
    "        if(not f3.subs(x,cand) == 0):\n",
    "            lsg.append((cand, f.subs(x,cand)))\n",
    "        elif(f3.subs(x,cand) == 0):\n",
    "            wert = f1.subs(x,cand)\n",
    "            cond1 = f1.subs(x, cand - epsilon) > wert and f1.subs(x, cand + epsilon) > wert\n",
    "            cond2 = f1.subs(x, cand - epsilon) < wert and f1.subs(x, cand + epsilon) < wert\n",
    "            if(cond1 or cond2):\n",
    "                lsg.append((cand, wert))\n",
    "    return lsg"
   ]
  },
  {
   "cell_type": "code",
   "execution_count": 7,
   "metadata": {
    "collapsed": false
   },
   "outputs": [],
   "source": [
    "def plotHochpunkte2d(f, a, b):\n",
    "    plot2d(f, a, b)\n",
    "    plotHochpunkte2d_seperat(f, a, b)\n",
    "    \n",
    "def plotHochpunkte2d_seperat(f, a, b):\n",
    "    hochpkt = np.array(hochpunkte2d(f))\n",
    "    a = np.minimum(np.min(hochpkt[:, 0]), a)\n",
    "    b = np.maximum(np.max(hochpkt[:, 0]), b)\n",
    "    plt.plot(hochpkt[:, 0], hochpkt[:, 1], \".g\", label = 'Hochpunkt')\n",
    "    plt.grid()\n",
    "    plt.legend()\n",
    "    \n",
    "def plotTiefpunkte2d(f, a, b):\n",
    "    plot2d(f, a, b)\n",
    "    plotTiefpunkte2d_seperat(f, a, b)\n",
    "    \n",
    "def plotTiefpunkte2d_seperat(f, a, b):\n",
    "    tiefpkt = np.array(tiefpunkte2d(f))\n",
    "    a = np.minimum(np.min(tiefpkt[:, 0]), a)\n",
    "    b = np.maximum(np.max(tiefpkt[:, 0]), b)\n",
    "    plt.plot(tiefpkt[:, 0], tiefpkt[:, 1], \".r\", label = 'Tiefpunkt')\n",
    "    plt.grid()\n",
    "    plt.legend()\n",
    "    \n",
    "    \n",
    "def plotExtrempunkte2d(f, a, b):\n",
    "    plot2d(f, a, b)\n",
    "    plotHochpunkte2d_seperat(f, a, b)\n",
    "    plotTiefpunkte2d_seperat(f, a, b)\n",
    "    \n",
    "def plotWendepunkte2d(f, a, b):\n",
    "    wendepkt = np.array(wendepunkte2d(f))\n",
    "    a = np.minimum(np.min(wendepkt[:, 0]), a)\n",
    "    b = np.maximum(np.max(wendepkt[:, 0]), b)\n",
    "    plot2d(f, a, b)\n",
    "    plt.plot(wendepkt[:, 0], wendepkt[:, 1], \".k\", label = 'Wendepunkt')\n",
    "    plt.grid()\n",
    "    plt.legend()\n",
    "    \n",
    "def plotNullstellen2d(f, a, b):\n",
    "    nst = np.array(nullstellenpunkte2d(f))\n",
    "    a = np.minimum(np.min(nst[:, 0]), a)\n",
    "    b = np.maximum(np.max(nst[:, 0]), b)\n",
    "    plot2d(f, a, b)\n",
    "    plt.plot(nst[:, 0], nst[:, 1], \".r\", label = 'Nullstelle')\n",
    "    plt.grid()\n",
    "    plt.legend()"
   ]
  },
  {
   "cell_type": "code",
   "execution_count": 8,
   "metadata": {
    "collapsed": false
   },
   "outputs": [
    {
     "data": {
      "image/png": "[encoded data removed]",
      "text/plain": [
       "<matplotlib.figure.Figure at 0x10bdbdb70>"
      ]
     },
     "metadata": {},
     "output_type": "display_data"
    },
    {
     "data": {
      "image/png": "[encoded data removed]",
      "text/plain": [
       "<matplotlib.figure.Figure at 0x10bdbddd8>"
      ]
     },
     "metadata": {},
     "output_type": "display_data"
    },
    {
     "data": {
      "image/png": "[encoded data removed]",
      "text/plain": [
       "<matplotlib.figure.Figure at 0x10e243c18>"
      ]
     },
     "metadata": {},
     "output_type": "display_data"
    }
   ],
   "source": [
    "x = Symbol('x')\n",
    "a = Symbol('a')\n",
    "f = x**4-x**2\n",
    "plotExtrempunkte2d(f, -2, 2)\n",
    "plotWendepunkte2d(f, -2, 2)\n",
    "plotNullstellen2d(f, -2, 2)"
   ]
  },
  {
   "cell_type": "code",
   "execution_count": 9,
   "metadata": {
    "collapsed": false
   },
   "outputs": [],
   "source": [
    "def jacobianMatrix(f, var):\n",
    "    M = Matrix([f])\n",
    "    return M.jacobian(var)\n"
   ]
  },
  {
   "cell_type": "code",
   "execution_count": 10,
   "metadata": {
    "collapsed": false
   },
   "outputs": [],
   "source": [
    "def gradient(f, var):\n",
    "    if(Matrix([f]).shape[0] > 1 and Matrix([f]).shape[1] > 1):\n",
    "        raise(Exception(\"Gradient nicht zu bestimmen\"))\n",
    "    return jacobianMatrix(f,var).T"
   ]
  },
  {
   "cell_type": "code",
   "execution_count": 11,
   "metadata": {
    "collapsed": false
   },
   "outputs": [],
   "source": [
    "#Hesse Matrix direkt zu bestimmen durch Sympy\n",
    "#Jordan Zerlegung durch Sympy direkt zu bestimmen\n",
    "#partielle Ableitungen sind die Eintraege der Jacobi Matrix\n",
    "#Ableitung direkt zu bestimmen\n",
    "#Riemann-Integral direkt zu bestimmen\n",
    "#Grenzwert direkt zu bestimmen"
   ]
  },
  {
   "cell_type": "code",
   "execution_count": 12,
   "metadata": {
    "collapsed": false
   },
   "outputs": [],
   "source": [
    "def plot3d(f, xintervall, yintervall):\n",
    "    fig = plt.figure()\n",
    "    fn = lambdify((x,y), f, 'numpy')\n",
    "    xn = np.linspace(xintervall[0], xintervall[1], 50)\n",
    "    yn = np.linspace(yintervall[0], yintervall[1], 50)\n",
    "    X,Y = np.meshgrid(xn,yn)\n",
    "    Z = fn(X,Y)\n",
    "    ax = fig.add_subplot(111, projection = '3d')\n",
    "    ax.plot_surface(X,Y,Z, rstride = 1, cstride = 1, cmap = plt.cm.viridis)"
   ]
  },
  {
   "cell_type": "code",
   "execution_count": 13,
   "metadata": {
    "collapsed": false
   },
   "outputs": [],
   "source": [
    "y = Symbol('y')\n",
    "\n",
    "def hochpunkte3d(f, var):\n",
    "    f1 = gradient(f, var)\n",
    "    f2 = simplify(hessian(f, var))\n",
    "    gls = set(f1)\n",
    "    candidates = solve(gls)\n",
    "    lsg = []\n",
    "    for cand in candidates:\n",
    "        definitheit = negativDefinit(f2.subs(var[0] ,cand[var[0]]).subs(var[1], cand[var[1]]))\n",
    "        if(definitheit):\n",
    "            lsg.append((cand[var[0]], cand[var[1]], f.subs(var[0] ,cand[var[0]]).subs(var[1], cand[var[1]])))\n",
    "    return lsg\n",
    "\n",
    "def tiefpunkte3d(f, var):\n",
    "    f1 = gradient(f, var)\n",
    "    f2 = simplify(hessian(f, var))\n",
    "    gls = set(f1)\n",
    "    candidates = solve(gls)\n",
    "    lsg = []\n",
    "    for cand in candidates:\n",
    "        definitheit = positivDefinit(f2.subs(var[0] ,cand[var[0]]).subs(var[1], cand[var[1]]))\n",
    "        if(definitheit):\n",
    "            lsg.append((cand[var[0]], cand[var[1]], f.subs(var[0] ,cand[var[0]]).subs(var[1], cand[var[1]])))\n",
    "    return lsg\n",
    "\n",
    "def sattelpunkte3d(f, var):\n",
    "    f1 = gradient(f, var)\n",
    "    f2 = simplify(hessian(f, var))\n",
    "    gls = set(f1)\n",
    "    candidates = solve(gls)\n",
    "    lsg = []\n",
    "    for cand in candidates:\n",
    "        definitheit = indefinit(f2.subs(var[0] ,cand[var[0]]).subs(var[1], cand[var[1]]))\n",
    "        if(definitheit):\n",
    "            lsg.append((cand[var[0]], cand[var[1]], f.subs(var[0] ,cand[var[0]]).subs(var[1], cand[var[1]])))\n",
    "    return lsg"
   ]
  },
  {
   "cell_type": "code",
   "execution_count": null,
   "metadata": {
    "collapsed": false
   },
   "outputs": [],
   "source": [
    "def positivDefinit(M):\n",
    "    eigenwerte = M.eigenvals()\n",
    "    result = True\n",
    "    for eig in eigenwerte:\n",
    "        if(eig <= 0):\n",
    "            result = False\n",
    "            break\n",
    "    return result\n",
    "\n",
    "def negativDefinit(M):\n",
    "    eigenwerte = M.eigenvals()\n",
    "    result = True\n",
    "    for eig in eigenwerte:\n",
    "        if(eig >= 0):\n",
    "            result = False\n",
    "            break\n",
    "    return result\n",
    "\n",
    "def indefinit(M):\n",
    "    eigenwerte = list(M.eigenvals().keys())\n",
    "    if(np.min(eigenwerte) < 0 and np.max(eigenwerte) > 0):\n",
    "        return True\n",
    "    return False"
   ]
  },
  {
   "cell_type": "code",
   "execution_count": null,
   "metadata": {
    "collapsed": false
   },
   "outputs": [],
   "source": [
    "y = Symbol('y')\n",
    "f = x*(y**2 - 1)*exp(-x**2-y**2)\n",
    "tiefpunkte3d(f, [x,y])"
   ]
  },
  {
   "cell_type": "code",
   "execution_count": null,
   "metadata": {
    "collapsed": true
   },
   "outputs": [],
   "source": [
    "def plotHochpunkte3d(f, a, b, var):\n",
    "    plot3d(f, a, b)\n",
    "    plotHochpunkte3d_seperat(f, a, b, var)\n",
    "\n",
    "    \n",
    "def plotHochpunkte3d_seperat(f, a, b, var):\n",
    "    hochpkt = np.array(hochpunkte3d(f, var))\n",
    "    plt.plot(hochpkt[:, 0], hochpkt[:, 1], hochpkt[:, 2], \".r\", label = 'Hochpunkt')\n",
    "    plt.grid()\n",
    "    plt.legend()\n",
    "    \n",
    "def plotTiefpunkte3d(f, a, b, var):\n",
    "    plot3d(f, a, b)\n",
    "    plotTiefpunkte3d_seperat(f, a, b, var)\n",
    "\n",
    "    \n",
    "def plotTiefpunkte3d_seperat(f, a, b, var):\n",
    "    tiefpkt = np.array(tiefpunkte3d(f, var))\n",
    "    plt.plot(tiefpkt[:, 0], tiefpkt[:, 1], tiefpkt[:, 2], \".y\", label = 'Tiefpunkt')\n",
    "    plt.grid()\n",
    "    plt.legend()\n",
    "    \n",
    "def plotSattelpunkte3d(f, a, b, var):\n",
    "    sattelpkt = np.array(sattelpunkte3d(f, var))\n",
    "    plot3d(f, a, b)\n",
    "    plt.plot(sattelpkt[:, 0], sattelpkt[:, 1], sattelpkt[:, 2], \".b\", label = 'Sattelpunkt')\n",
    "    plt.grid()\n",
    "    plt.legend()\n",
    "    \n",
    "def plotExtrempunkte3d(f, a, b, var):\n",
    "    plot3d(f, a, b)\n",
    "    plotTiefpunkte3d_seperat(f, a, b, var)\n",
    "    plotHochpunkte3d_seperat(f, a, b, var)\n",
    "    "
   ]
  },
  {
   "cell_type": "code",
   "execution_count": null,
   "metadata": {
    "collapsed": false
   },
   "outputs": [],
   "source": [
    "plotExtrempunkte3d(f, [-3, 3], [-3, 3], [x,y])"
   ]
  },
  {
   "cell_type": "code",
   "execution_count": null,
   "metadata": {
    "collapsed": true
   },
   "outputs": [],
   "source": []
  }
 ],
 "metadata": {
  "anaconda-cloud": {},
  "kernelspec": {
   "display_name": "Python [conda root]",
   "language": "python",
   "name": "conda-root-py"
  },
  "language_info": {
   "codemirror_mode": {
    "name": "ipython",
    "version": 3
   },
   "file_extension": ".py",
   "mimetype": "text/x-python",
   "name": "python",
   "nbconvert_exporter": "python",
   "pygments_lexer": "ipython3",
   "version": "3.5.2"
  }
 },
 "nbformat": 4,
 "nbformat_minor": 2
}
