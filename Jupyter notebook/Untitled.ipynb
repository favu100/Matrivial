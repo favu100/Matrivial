{
 "cells": [
  {
   "cell_type": "code",
   "execution_count": 1,
   "metadata": {
    "collapsed": true
   },
   "outputs": [],
   "source": [
    "from sympy import *\n",
    "import numpy as np\n",
    "import matplotlib.pyplot as plt\n",
    "%matplotlib inline\n",
    "init_printing()"
   ]
  },
  {
   "cell_type": "code",
   "execution_count": 2,
   "metadata": {
    "collapsed": false
   },
   "outputs": [],
   "source": [
    "def nullstellen(f):\n",
    "    glg = Eq(f)\n",
    "    Lsg = solve(glg)\n",
    "    return Lsg"
   ]
  },
  {
   "cell_type": "code",
   "execution_count": 3,
   "metadata": {
    "collapsed": false
   },
   "outputs": [],
   "source": [
    "def plot2d(f, a, b):\n",
    "    fn = lambdify(x, f, 'numpy')\n",
    "    xn = np.linspace(a,b,100)\n",
    "    plt.plot(xn, fn(xn))"
   ]
  },
  {
   "cell_type": "code",
   "execution_count": 26,
   "metadata": {
    "collapsed": false
   },
   "outputs": [],
   "source": [
    "def hochpunkte(f):\n",
    "    f1 = f.diff(x)\n",
    "    f2 = f1.diff(x)\n",
    "    glg = Eq(f1)\n",
    "    candidates = solve(glg)\n",
    "    lsg = []\n",
    "    epsilon = 10**-16\n",
    "    for cand in candidates:\n",
    "        if(f2.subs(x,cand) < 0):\n",
    "            lsg.append((cand, f.subs(x,cand)))\n",
    "        elif(f2.subs(x,cand) == 0):\n",
    "            wert = f.subs(x,cand)\n",
    "            if(f.subs(x, cand - epsilon) < wert and f.subs(x, cand + epsilon) < wert):\n",
    "                lsg.append((cand, wert))\n",
    "    return lsg"
   ]
  },
  {
   "cell_type": "code",
   "execution_count": 27,
   "metadata": {
    "collapsed": false
   },
   "outputs": [],
   "source": [
    "def tiefpunkte(f):\n",
    "    f1 = f.diff(x)\n",
    "    f2 = f1.diff(x)\n",
    "    glg = Eq(f1)\n",
    "    candidates = solve(glg)\n",
    "    lsg = []\n",
    "    epsilon = 10**-16\n",
    "    for cand in candidates:\n",
    "        if(f2.subs(x,cand) > 0):\n",
    "            lsg.append((cand, f.subs(x,cand)))\n",
    "        elif(f2.subs(x,cand) == 0):\n",
    "            wert = f.subs(x,cand)\n",
    "            if(f.subs(x, cand - epsilon) > wert and f.subs(x, cand + epsilon) > wert):\n",
    "                lsg.append((cand, wert))\n",
    "    return lsg"
   ]
  },
  {
   "cell_type": "code",
   "execution_count": 35,
   "metadata": {
    "collapsed": false
   },
   "outputs": [],
   "source": [
    "def wendepunkte(f):\n",
    "    f1 = f.diff(x)\n",
    "    f2 = f1.diff(x)\n",
    "    f3 = f2.diff(x)\n",
    "    glg = Eq(f2)\n",
    "    candidates = solve(glg)\n",
    "    lsg = []\n",
    "    epsilon = 10**-16\n",
    "    for cand in candidates:\n",
    "        if(not f3.subs(x,cand) == 0):\n",
    "            lsg.append((cand, f.subs(x,cand)))\n",
    "        elif(f3.subs(x,cand) == 0):\n",
    "            wert = f1.subs(x,cand)\n",
    "            cond1 = f1.subs(x, cand - epsilon) > wert and f1.subs(x, cand + epsilon) > wert\n",
    "            cond2 = f1.subs(x, cand - epsilon) < wert and f1.subs(x, cand + epsilon) < wert\n",
    "            if(cond1 or cond2):\n",
    "                lsg.append((cand, wert))\n",
    "    return lsg"
   ]
  },
  {
   "cell_type": "code",
   "execution_count": 40,
   "metadata": {
    "collapsed": false
   },
   "outputs": [
    {
     "data": {
      "image/png": "[encoded data removed]",
      "text/latex": [
       "$$\\left [ \\left ( 0, \\quad 0\\right )\\right ]$$"
      ],
      "text/plain": [
       "[(0, 0)]"
      ]
     },
     "execution_count": 40,
     "metadata": {},
     "output_type": "execute_result"
    }
   ],
   "source": [
    "x = Symbol('x')\n",
    "f = x**3\n",
    "wendepunkte(f)"
   ]
  },
  {
   "cell_type": "code",
   "execution_count": null,
   "metadata": {
    "collapsed": true
   },
   "outputs": [],
   "source": []
  }
 ],
 "metadata": {
  "anaconda-cloud": {},
  "kernelspec": {
   "display_name": "Python [conda root]",
   "language": "python",
   "name": "conda-root-py"
  },
  "language_info": {
   "codemirror_mode": {
    "name": "ipython",
    "version": 3
   },
   "file_extension": ".py",
   "mimetype": "text/x-python",
   "name": "python",
   "nbconvert_exporter": "python",
   "pygments_lexer": "ipython3",
   "version": "3.5.2"
  }
 },
 "nbformat": 4,
 "nbformat_minor": 2
}
