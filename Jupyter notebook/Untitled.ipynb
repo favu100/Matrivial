{
 "cells": [
  {
   "cell_type": "code",
   "execution_count": 17,
   "metadata": {
    "collapsed": true
   },
   "outputs": [],
   "source": [
    "from sympy import *\n",
    "import numpy as np\n",
    "import matplotlib.pyplot as plt\n",
    "%matplotlib inline\n",
    "init_printing()"
   ]
  },
  {
   "cell_type": "code",
   "execution_count": 18,
   "metadata": {
    "collapsed": false
   },
   "outputs": [],
   "source": [
    "def nullstellen(f):\n",
    "    glg = Eq(f)\n",
    "    Lsg = solve(glg)\n",
    "    return Lsg"
   ]
  },
  {
   "cell_type": "code",
   "execution_count": 19,
   "metadata": {
    "collapsed": false
   },
   "outputs": [],
   "source": [
    "def plot2d(f, a, b):\n",
    "    fn = lambdify(x, f, 'numpy')\n",
    "    xn = np.linspace(a,b,100)\n",
    "    plt.plot(xn, fn(xn))"
   ]
  },
  {
   "cell_type": "code",
   "execution_count": 38,
   "metadata": {
    "collapsed": false
   },
   "outputs": [],
   "source": [
    "def hochpunkte(f):\n",
    "    f1 = f.diff(x)\n",
    "    f2 = f1.diff(x)\n",
    "    glg = Eq(f1)\n",
    "    candidates = solve(glg)\n",
    "    lsg = []\n",
    "    for cand in candidates:\n",
    "        if(f2.subs(x,cand) > 0):\n",
    "            lsg.append((cand, f.subs(x,cand)))\n",
    "    return lsg"
   ]
  },
  {
   "cell_type": "code",
   "execution_count": 40,
   "metadata": {
    "collapsed": false
   },
   "outputs": [],
   "source": [
    "def tiefpunkte(f):\n",
    "    f1 = f.diff(x)\n",
    "    f2 = f1.diff(x)\n",
    "    glg = Eq(f1)\n",
    "    candidates = solve(glg)\n",
    "    lsg = []\n",
    "    for cand in candidates:\n",
    "        if(f2.subs(x,cand) < 0):\n",
    "            lsg.append((cand, f.subs(x,cand)))\n",
    "    return lsg"
   ]
  },
  {
   "cell_type": "code",
   "execution_count": 42,
   "metadata": {
    "collapsed": false
   },
   "outputs": [],
   "source": [
    "def wendepunkte(f):\n",
    "    f1 = f.diff(x)\n",
    "    f2 = f1.diff(x)\n",
    "    f3 = f2.diff(x)\n",
    "    glg = Eq(f2)\n",
    "    candidates = solve(glg)\n",
    "    lsg = []\n",
    "    for cand in candidates:\n",
    "        if(not f3.subs(x,cand) == 0):\n",
    "            lsg.append((cand, f.subs(x,cand)))\n",
    "    return lsg"
   ]
  },
  {
   "cell_type": "code",
   "execution_count": null,
   "metadata": {
    "collapsed": false
   },
   "outputs": [],
   "source": []
  },
  {
   "cell_type": "code",
   "execution_count": null,
   "metadata": {
    "collapsed": true
   },
   "outputs": [],
   "source": []
  }
 ],
 "metadata": {
  "anaconda-cloud": {},
  "kernelspec": {
   "display_name": "Python [conda root]",
   "language": "python",
   "name": "conda-root-py"
  },
  "language_info": {
   "codemirror_mode": {
    "name": "ipython",
    "version": 3
   },
   "file_extension": ".py",
   "mimetype": "text/x-python",
   "name": "python",
   "nbconvert_exporter": "python",
   "pygments_lexer": "ipython3",
   "version": "3.5.2"
  }
 },
 "nbformat": 4,
 "nbformat_minor": 2
}
